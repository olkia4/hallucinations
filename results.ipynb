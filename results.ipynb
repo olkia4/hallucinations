{
  "nbformat": 4,
  "nbformat_minor": 0,
  "metadata": {
    "colab": {
      "provenance": []
    },
    "kernelspec": {
      "name": "python3",
      "display_name": "Python 3"
    },
    "language_info": {
      "name": "python"
    }
  },
  "cells": [
    {
      "cell_type": "code",
      "source": [
        "import torch"
      ],
      "metadata": {
        "id": "RoUbAd2IEEI8"
      },
      "execution_count": 1,
      "outputs": []
    },
    {
      "cell_type": "code",
      "source": [
        "from google.colab import drive\n",
        "drive.mount('/content/drive')"
      ],
      "metadata": {
        "colab": {
          "base_uri": "https://localhost:8080/"
        },
        "id": "EuwHwIdSErKH",
        "outputId": "4230ed5c-b175-47e0-c4cf-edce6b6cc176"
      },
      "execution_count": 3,
      "outputs": [
        {
          "output_type": "stream",
          "name": "stdout",
          "text": [
            "Mounted at /content/drive\n"
          ]
        }
      ]
    },
    {
      "cell_type": "code",
      "source": [
        "ans = torch.load(\"/content/drive/MyDrive/gpt_ans.txt\")"
      ],
      "metadata": {
        "id": "GHeSNNh8bkeK"
      },
      "execution_count": 4,
      "outputs": []
    },
    {
      "cell_type": "code",
      "source": [
        "vals = list(map(lambda x: int(x[0]), ans))"
      ],
      "metadata": {
        "id": "T9GW0mTAoH7l"
      },
      "execution_count": 5,
      "outputs": []
    },
    {
      "cell_type": "markdown",
      "source": [
        "Проведём тесты на расстояния Махаланобиса"
      ],
      "metadata": {
        "id": "ou0HEnd_E4PG"
      }
    },
    {
      "cell_type": "code",
      "source": [
        "metrics = torch.load(\"/content/drive/MyDrive/mahalobis_distance.txt\")"
      ],
      "metadata": {
        "id": "BhgUQ7gsjm7e"
      },
      "execution_count": 9,
      "outputs": []
    },
    {
      "cell_type": "code",
      "source": [
        "metrics = list(map(lambda x: float(x[0][0]), metrics))"
      ],
      "metadata": {
        "id": "lRga0a3CFGym"
      },
      "execution_count": 10,
      "outputs": []
    },
    {
      "cell_type": "code",
      "source": [
        "from scipy.stats import spearmanr\n",
        "rho, p = spearmanr(vals, metrics)\n",
        "print(rho)\n",
        "print(p)"
      ],
      "metadata": {
        "colab": {
          "base_uri": "https://localhost:8080/"
        },
        "id": "tGCh0u8qbsI7",
        "outputId": "f0cac603-d627-4e33-ab52-ca15000144df"
      },
      "execution_count": 13,
      "outputs": [
        {
          "output_type": "stream",
          "name": "stdout",
          "text": [
            "0.09596939642384707\n",
            "1.318662681281734e-24\n"
          ]
        }
      ]
    },
    {
      "cell_type": "markdown",
      "source": [
        "Проведём тесты на расстояния до кольца кластера"
      ],
      "metadata": {
        "id": "jQchszBtFLiu"
      }
    },
    {
      "cell_type": "code",
      "source": [
        "metrics = torch.load(\"/content/drive/MyDrive/ring_distance.txt\")"
      ],
      "metadata": {
        "id": "N0P5UXyaFSZB"
      },
      "execution_count": 14,
      "outputs": []
    },
    {
      "cell_type": "code",
      "source": [
        "metrics = list(map(lambda x: float(x[0][0]), metrics))"
      ],
      "metadata": {
        "id": "58y3ncjeFTsW"
      },
      "execution_count": 15,
      "outputs": []
    },
    {
      "cell_type": "code",
      "source": [
        "rho, p = spearmanr(vals, metrics)\n",
        "print(rho)\n",
        "print(p)"
      ],
      "metadata": {
        "colab": {
          "base_uri": "https://localhost:8080/"
        },
        "id": "14wiowP7FVKR",
        "outputId": "eb63f148-d1b2-41b8-b56e-461ee4880c83"
      },
      "execution_count": 16,
      "outputs": [
        {
          "output_type": "stream",
          "name": "stdout",
          "text": [
            "0.040016147855004215\n",
            "2.031444114163921e-05\n"
          ]
        }
      ]
    }
  ]
}