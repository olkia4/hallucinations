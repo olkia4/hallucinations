{
  "cells": [
    {
      "cell_type": "markdown",
      "metadata": {
        "id": "9Z9k3dVRRY7B"
      },
      "source": []
    },
    {
      "cell_type": "code",
      "source": [
        "from google.colab import drive\n",
        "drive.mount('/content/drive')"
      ],
      "metadata": {
        "id": "OQJXCXLTYCx-"
      },
      "execution_count": null,
      "outputs": []
    },
    {
      "cell_type": "code",
      "source": [
        "%cd /content/drive/MyDrive"
      ],
      "metadata": {
        "id": "wUnz-PciTlsA"
      },
      "execution_count": null,
      "outputs": []
    },
    {
      "cell_type": "code",
      "source": [
        "import torch"
      ],
      "metadata": {
        "id": "_4dGyUtVpy9o"
      },
      "execution_count": null,
      "outputs": []
    },
    {
      "cell_type": "code",
      "source": [
        "test = torch.load( \"/content/drive/MyDrive/file_test.txt\")"
      ],
      "metadata": {
        "id": "XcbX7ObAoigU"
      },
      "execution_count": null,
      "outputs": []
    },
    {
      "cell_type": "code",
      "source": [
        "train = torch.load( \"/content/drive/MyDrive/file_train.txt\")"
      ],
      "metadata": {
        "id": "ACAJ70h-Yc8P"
      },
      "execution_count": null,
      "outputs": []
    },
    {
      "cell_type": "code",
      "source": [
        "mean = torch.mean(train, axis=0)"
      ],
      "metadata": {
        "id": "1SPebsl_YthK"
      },
      "execution_count": null,
      "outputs": []
    },
    {
      "cell_type": "code",
      "source": [
        "torch.save(mean, \"/content/drive/MyDrive/mean.txt\")"
      ],
      "metadata": {
        "id": "O-32ZGXbY5lz"
      },
      "execution_count": null,
      "outputs": []
    },
    {
      "cell_type": "code",
      "source": [
        "cov = torch.cov(train.T)"
      ],
      "metadata": {
        "id": "yB6GfOH7Y9Qh"
      },
      "execution_count": null,
      "outputs": []
    },
    {
      "cell_type": "code",
      "source": [
        "torch.save(cov, \"/content/drive/MyDrive/cov.txt\")"
      ],
      "metadata": {
        "id": "vB6T1J88aFyI"
      },
      "execution_count": null,
      "outputs": []
    },
    {
      "cell_type": "code",
      "source": [
        "mean = torch.load(\"/content/drive/MyDrive/mean.txt\")"
      ],
      "metadata": {
        "id": "PgMNeS5mZ3eF"
      },
      "execution_count": null,
      "outputs": []
    },
    {
      "cell_type": "code",
      "source": [
        "cov = torch.load(\"/content/drive/MyDrive/cov.txt\")"
      ],
      "metadata": {
        "id": "nqjWBl1afoe9"
      },
      "execution_count": null,
      "outputs": []
    },
    {
      "cell_type": "code",
      "source": [
        "def mahalobis_distance(U, V, COV_inv):\n",
        "  return ((U - V) @ COV_inv @ (U - V).T)**0.5"
      ],
      "metadata": {
        "id": "r4bjBBz_aQPg"
      },
      "execution_count": null,
      "outputs": []
    },
    {
      "cell_type": "code",
      "source": [
        "cov_inv = torch.linalg.inv(cov)"
      ],
      "metadata": {
        "id": "fIlraW8taoFU"
      },
      "execution_count": null,
      "outputs": []
    },
    {
      "cell_type": "code",
      "source": [
        "distances = []\n",
        "for i in range(len(test)):\n",
        "  distances.append(mahalobis_distance(test[i], mean, cov_inv))"
      ],
      "metadata": {
        "id": "cpiSdYFjqLB7"
      },
      "execution_count": null,
      "outputs": []
    },
    {
      "cell_type": "code",
      "source": [
        "torch.save(distances, \"/content/drive/MyDrive/mahalobis_distance.txt\")"
      ],
      "metadata": {
        "id": "I__hSS0tqN-9"
      },
      "execution_count": null,
      "outputs": []
    },
    {
      "cell_type": "code",
      "source": [
        "dists = []\n",
        "for i in range(len(train)):\n",
        "  dists.append(mahalobis_distance(train[i], mean, cov_inv))"
      ],
      "metadata": {
        "id": "tPeCd4uof3LH"
      },
      "execution_count": null,
      "outputs": []
    },
    {
      "cell_type": "code",
      "source": [
        "d = torch.tensor(dists)"
      ],
      "metadata": {
        "id": "OKyYRImfglWx"
      },
      "execution_count": null,
      "outputs": []
    },
    {
      "cell_type": "code",
      "source": [
        "d"
      ],
      "metadata": {
        "colab": {
          "base_uri": "https://localhost:8080/"
        },
        "id": "PACTiX9KgvW3",
        "outputId": "66c4d50e-4bb2-48ca-ba85-e66d7db0a477"
      },
      "execution_count": null,
      "outputs": [
        {
          "output_type": "execute_result",
          "data": {
            "text/plain": [
              "tensor([25.6960, 32.0758, 26.1718,  ..., 24.8877, 28.2094, 33.6534])"
            ]
          },
          "metadata": {},
          "execution_count": 16
        }
      ]
    },
    {
      "cell_type": "code",
      "source": [
        "R = torch.mean(d, axis=0)"
      ],
      "metadata": {
        "id": "TtQkoMBlgSDm"
      },
      "execution_count": null,
      "outputs": []
    },
    {
      "cell_type": "code",
      "source": [
        "print(R)"
      ],
      "metadata": {
        "colab": {
          "base_uri": "https://localhost:8080/"
        },
        "id": "rabt-RoogbwM",
        "outputId": "ce23e486-ee99-4869-a8a7-db704c15ef9d"
      },
      "execution_count": null,
      "outputs": [
        {
          "output_type": "stream",
          "name": "stdout",
          "text": [
            "tensor(31.2925)\n"
          ]
        }
      ]
    },
    {
      "cell_type": "code",
      "source": [
        "def distance_to_ring(U, V, COV_inv, R):\n",
        "  return abs(R - mahalobis_distance(U, V, COV_inv))"
      ],
      "metadata": {
        "id": "JFcy6lV9gze9"
      },
      "execution_count": null,
      "outputs": []
    },
    {
      "cell_type": "code",
      "source": [
        "distances = []\n",
        "for i in range(len(test)):\n",
        "  distances.append(distance_to_ring(test[i], mean, cov_inv, R))"
      ],
      "metadata": {
        "id": "n3gvzuWPa0U0"
      },
      "execution_count": null,
      "outputs": []
    },
    {
      "cell_type": "code",
      "source": [
        "torch.save(distances, \"/content/drive/MyDrive/ring_distance.txt\")"
      ],
      "metadata": {
        "id": "Vsw1ucLaqnDq"
      },
      "execution_count": null,
      "outputs": []
    }
  ],
  "metadata": {
    "colab": {
      "provenance": []
    },
    "kernelspec": {
      "display_name": "Python 3",
      "name": "python3"
    },
    "language_info": {
      "name": "python"
    },
    "gpuClass": "standard",
    "accelerator": "GPU"
  },
  "nbformat": 4,
  "nbformat_minor": 0
}